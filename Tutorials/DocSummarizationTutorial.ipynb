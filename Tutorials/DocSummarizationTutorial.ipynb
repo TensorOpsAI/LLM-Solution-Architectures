{
  "nbformat": 4,
  "nbformat_minor": 0,
  "metadata": {
    "colab": {
      "provenance": []
    },
    "kernelspec": {
      "name": "python3",
      "display_name": "Python 3"
    },
    "language_info": {
      "name": "python"
    }
  },
  "cells": [
    {
      "cell_type": "markdown",
      "source": [
        "# Building a Document Summarization LLM Architecture: A Step-by-Step Guide\n"
      ],
      "metadata": {
        "id": "eMRsydTf-uQI"
      }
    },
    {
      "cell_type": "markdown",
      "source": [
        "# Table of Contents\n",
        "- [Introduction](#introduction)  \n",
        "- [Prerequisites](#prerequisites)  \n",
        "- [Step 1: Setting Up the Environment](#step-1-setting-up-the-environment)  \n",
        "  - [1.1 Create a Virtual Environment](#11-create-a-virtual-environment)  \n",
        "  - [1.2 Install Required Libraries](#12-install-required-libraries)  \n",
        "- [Step 2: Loading and Preprocessing the Document](#step-2-loading-and-preprocessing-the-document)  \n",
        "  - [2.1 Import Libraries](#21-import-libraries)  \n",
        "  - [2.2 Set Up OpenAI API Key](#22-set-up-openai-api-key)  \n",
        "  - [2.3 Load the Document](#23-load-the-document)  \n",
        "- [Step 3: Configuring the Language Model](#step-3-configuring-the-language-model)  \n",
        "  - [3.1 Initialize the LLM](#31-initialize-the-llm)  \n",
        "- [Step 4: Building the Summarization Pipeline](#step-4-building-the-summarization-pipeline)  \n",
        "  - [4.1 Create a Prompt Template](#41-create-a-prompt-template)  \n",
        "  - [4.2 Set Up the LLM Chain](#42-set-up-the-llm-chain)  \n",
        "  - [4.3 Handle Long Documents (Optional)](#43-handle-long-documents-optional)  \n",
        "- [Step 5: Creating a User Interface with Streamlit](#step-5-creating-a-user-interface-with-streamlit)  \n",
        "  - [5.1 Set Up the Streamlit App Structure](#51-set-up-the-streamlit-app-structure)  \n",
        "  - [5.2 Add File Upload Option](#52-add-file-upload-option)  \n",
        "  - [5.3 Process the Uploaded File](#53-process-the-uploaded-file)  \n",
        "- [Step 6: Running and Testing the Application](#step-6-running-and-testing-the-application)  \n",
        "  - [6.1 Run the Streamlit App](#61-run-the-streamlit-app)  \n",
        "  - [6.2 Test with a Sample Document](#62-test-with-a-sample-document)  \n",
        "- [Conclusion](#conclusion)  \n",
        "- [References](#references)\n"
      ],
      "metadata": {
        "id": "EhqmUPejn-WP"
      }
    },
    {
      "cell_type": "markdown",
      "source": [
        "## 1. Introduction\n",
        "\n",
        "Document summarization is a pivotal task in Natural Language Processing (NLP) that involves extracting the most salient information from extensive documents to generate concise summaries. With the rise of Large Language Models (LLMs) like OpenAI's GPT series, automating this process has become more accessible and efficient.\n",
        "\n",
        "In this guide, we will build a document summarization application using **LangChain** and **Streamlit**. LangChain provides a robust framework for developing applications powered by language models, while Streamlit enables us to create an interactive web interface with ease.\n",
        "\n",
        "---\n",
        "\n",
        "## 2. Prerequisites\n",
        "\n",
        "Before you begin, ensure you have the following:\n",
        "\n",
        "- **Python 3.7 or higher** installed.  \n",
        "- **An OpenAI API key**. Sign up on the OpenAI website to obtain one.  \n",
        "- **Basic understanding of Python programming.**  \n",
        "- Optional but helpful: Familiarity with NLP concepts.\n",
        "\n",
        "---\n",
        "\n",
        "## 3. Step 1: Setting Up the Environment\n",
        "\n",
        "### 3.1 Create a Virtual Environment\n",
        "Using a virtual environment is a good practice to manage dependencies.\n"
      ],
      "metadata": {
        "id": "S3n2PkMkf1ZH"
      }
    },
    {
      "cell_type": "code",
      "source": [
        "# Create a virtual environment\n",
        "!python -m venv venv\n",
        "\n",
        "# Activate the virtual environment\n",
        "# On Windows\n",
        "!venv\\Scripts\\activate\n",
        "\n",
        "# On macOS/Linux\n",
        "!source venv/bin/activate"
      ],
      "metadata": {
        "colab": {
          "base_uri": "https://localhost:8080/"
        },
        "id": "CSmzDv_9f5rz",
        "outputId": "de4d6cbd-15fd-4baa-c055-60740ea5ba94"
      },
      "execution_count": 2,
      "outputs": [
        {
          "output_type": "stream",
          "name": "stdout",
          "text": [
            "The virtual environment was not created successfully because ensurepip is not\n",
            "available.  On Debian/Ubuntu systems, you need to install the python3-venv\n",
            "package using the following command.\n",
            "\n",
            "    apt install python3.10-venv\n",
            "\n",
            "You may need to use sudo with that command.  After installing the python3-venv\n",
            "package, recreate your virtual environment.\n",
            "\n",
            "Failing command: /content/venv/bin/python3\n",
            "\n",
            "/bin/bash: line 1: venvScriptsactivate: command not found\n",
            "/bin/bash: line 1: venv/bin/activate: No such file or directory\n"
          ]
        }
      ]
    },
    {
      "cell_type": "markdown",
      "source": [
        "3.2 Install Required Libraries\n",
        "Install the necessary Python libraries using pip."
      ],
      "metadata": {
        "id": "DkS0cbP8isci"
      }
    },
    {
      "cell_type": "code",
      "source": [],
      "metadata": {
        "id": "2HE8NyrrkttO"
      },
      "execution_count": 2,
      "outputs": []
    },
    {
      "cell_type": "code",
      "source": [
        "!pip install langchain openai streamlit"
      ],
      "metadata": {
        "id": "zkP_zRYuiva_",
        "colab": {
          "base_uri": "https://localhost:8080/"
        },
        "outputId": "2ba26783-4bd8-410d-fd79-4e48a45e0c2d"
      },
      "execution_count": 5,
      "outputs": [
        {
          "output_type": "stream",
          "name": "stdout",
          "text": [
            "Requirement already satisfied: langchain in /usr/local/lib/python3.10/dist-packages (0.3.4)\n",
            "Requirement already satisfied: openai in /usr/local/lib/python3.10/dist-packages (1.52.2)\n",
            "Requirement already satisfied: streamlit in /usr/local/lib/python3.10/dist-packages (1.40.0)\n",
            "Requirement already satisfied: PyYAML>=5.3 in /usr/local/lib/python3.10/dist-packages (from langchain) (6.0.2)\n",
            "Requirement already satisfied: SQLAlchemy<3,>=1.4 in /usr/local/lib/python3.10/dist-packages (from langchain) (2.0.36)\n",
            "Requirement already satisfied: aiohttp<4.0.0,>=3.8.3 in /usr/local/lib/python3.10/dist-packages (from langchain) (3.10.10)\n",
            "Requirement already satisfied: async-timeout<5.0.0,>=4.0.0 in /usr/local/lib/python3.10/dist-packages (from langchain) (4.0.3)\n",
            "Requirement already satisfied: langchain-core<0.4.0,>=0.3.12 in /usr/local/lib/python3.10/dist-packages (from langchain) (0.3.13)\n",
            "Requirement already satisfied: langchain-text-splitters<0.4.0,>=0.3.0 in /usr/local/lib/python3.10/dist-packages (from langchain) (0.3.0)\n",
            "Requirement already satisfied: langsmith<0.2.0,>=0.1.17 in /usr/local/lib/python3.10/dist-packages (from langchain) (0.1.137)\n",
            "Requirement already satisfied: numpy<2,>=1 in /usr/local/lib/python3.10/dist-packages (from langchain) (1.26.4)\n",
            "Requirement already satisfied: pydantic<3.0.0,>=2.7.4 in /usr/local/lib/python3.10/dist-packages (from langchain) (2.9.2)\n",
            "Requirement already satisfied: requests<3,>=2 in /usr/local/lib/python3.10/dist-packages (from langchain) (2.32.3)\n",
            "Requirement already satisfied: tenacity!=8.4.0,<10,>=8.1.0 in /usr/local/lib/python3.10/dist-packages (from langchain) (9.0.0)\n",
            "Requirement already satisfied: anyio<5,>=3.5.0 in /usr/local/lib/python3.10/dist-packages (from openai) (3.7.1)\n",
            "Requirement already satisfied: distro<2,>=1.7.0 in /usr/local/lib/python3.10/dist-packages (from openai) (1.9.0)\n",
            "Requirement already satisfied: httpx<1,>=0.23.0 in /usr/local/lib/python3.10/dist-packages (from openai) (0.27.2)\n",
            "Requirement already satisfied: jiter<1,>=0.4.0 in /usr/local/lib/python3.10/dist-packages (from openai) (0.6.1)\n",
            "Requirement already satisfied: sniffio in /usr/local/lib/python3.10/dist-packages (from openai) (1.3.1)\n",
            "Requirement already satisfied: tqdm>4 in /usr/local/lib/python3.10/dist-packages (from openai) (4.66.6)\n",
            "Requirement already satisfied: typing-extensions<5,>=4.11 in /usr/local/lib/python3.10/dist-packages (from openai) (4.12.2)\n",
            "Requirement already satisfied: altair<6,>=4.0 in /usr/local/lib/python3.10/dist-packages (from streamlit) (4.2.2)\n",
            "Requirement already satisfied: blinker<2,>=1.0.0 in /usr/lib/python3/dist-packages (from streamlit) (1.4)\n",
            "Requirement already satisfied: cachetools<6,>=4.0 in /usr/local/lib/python3.10/dist-packages (from streamlit) (5.5.0)\n",
            "Requirement already satisfied: click<9,>=7.0 in /usr/local/lib/python3.10/dist-packages (from streamlit) (8.1.7)\n",
            "Requirement already satisfied: packaging<25,>=20 in /usr/local/lib/python3.10/dist-packages (from streamlit) (24.1)\n",
            "Requirement already satisfied: pandas<3,>=1.4.0 in /usr/local/lib/python3.10/dist-packages (from streamlit) (2.2.2)\n",
            "Requirement already satisfied: pillow<12,>=7.1.0 in /usr/local/lib/python3.10/dist-packages (from streamlit) (10.4.0)\n",
            "Requirement already satisfied: protobuf<6,>=3.20 in /usr/local/lib/python3.10/dist-packages (from streamlit) (3.20.3)\n",
            "Requirement already satisfied: pyarrow>=7.0 in /usr/local/lib/python3.10/dist-packages (from streamlit) (17.0.0)\n",
            "Requirement already satisfied: rich<14,>=10.14.0 in /usr/local/lib/python3.10/dist-packages (from streamlit) (13.9.3)\n",
            "Requirement already satisfied: toml<2,>=0.10.1 in /usr/local/lib/python3.10/dist-packages (from streamlit) (0.10.2)\n",
            "Requirement already satisfied: gitpython!=3.1.19,<4,>=3.0.7 in /usr/local/lib/python3.10/dist-packages (from streamlit) (3.1.43)\n",
            "Requirement already satisfied: pydeck<1,>=0.8.0b4 in /usr/local/lib/python3.10/dist-packages (from streamlit) (0.9.1)\n",
            "Requirement already satisfied: tornado<7,>=6.0.3 in /usr/local/lib/python3.10/dist-packages (from streamlit) (6.3.3)\n",
            "Requirement already satisfied: watchdog<6,>=2.1.5 in /usr/local/lib/python3.10/dist-packages (from streamlit) (5.0.3)\n",
            "Requirement already satisfied: aiohappyeyeballs>=2.3.0 in /usr/local/lib/python3.10/dist-packages (from aiohttp<4.0.0,>=3.8.3->langchain) (2.4.3)\n",
            "Requirement already satisfied: aiosignal>=1.1.2 in /usr/local/lib/python3.10/dist-packages (from aiohttp<4.0.0,>=3.8.3->langchain) (1.3.1)\n",
            "Requirement already satisfied: attrs>=17.3.0 in /usr/local/lib/python3.10/dist-packages (from aiohttp<4.0.0,>=3.8.3->langchain) (24.2.0)\n",
            "Requirement already satisfied: frozenlist>=1.1.1 in /usr/local/lib/python3.10/dist-packages (from aiohttp<4.0.0,>=3.8.3->langchain) (1.5.0)\n",
            "Requirement already satisfied: multidict<7.0,>=4.5 in /usr/local/lib/python3.10/dist-packages (from aiohttp<4.0.0,>=3.8.3->langchain) (6.1.0)\n",
            "Requirement already satisfied: yarl<2.0,>=1.12.0 in /usr/local/lib/python3.10/dist-packages (from aiohttp<4.0.0,>=3.8.3->langchain) (1.17.0)\n",
            "Requirement already satisfied: entrypoints in /usr/local/lib/python3.10/dist-packages (from altair<6,>=4.0->streamlit) (0.4)\n",
            "Requirement already satisfied: jinja2 in /usr/local/lib/python3.10/dist-packages (from altair<6,>=4.0->streamlit) (3.1.4)\n",
            "Requirement already satisfied: jsonschema>=3.0 in /usr/local/lib/python3.10/dist-packages (from altair<6,>=4.0->streamlit) (4.23.0)\n",
            "Requirement already satisfied: toolz in /usr/local/lib/python3.10/dist-packages (from altair<6,>=4.0->streamlit) (0.12.1)\n",
            "Requirement already satisfied: idna>=2.8 in /usr/local/lib/python3.10/dist-packages (from anyio<5,>=3.5.0->openai) (3.10)\n",
            "Requirement already satisfied: exceptiongroup in /usr/local/lib/python3.10/dist-packages (from anyio<5,>=3.5.0->openai) (1.2.2)\n",
            "Requirement already satisfied: gitdb<5,>=4.0.1 in /usr/local/lib/python3.10/dist-packages (from gitpython!=3.1.19,<4,>=3.0.7->streamlit) (4.0.11)\n",
            "Requirement already satisfied: certifi in /usr/local/lib/python3.10/dist-packages (from httpx<1,>=0.23.0->openai) (2024.8.30)\n",
            "Requirement already satisfied: httpcore==1.* in /usr/local/lib/python3.10/dist-packages (from httpx<1,>=0.23.0->openai) (1.0.6)\n",
            "Requirement already satisfied: h11<0.15,>=0.13 in /usr/local/lib/python3.10/dist-packages (from httpcore==1.*->httpx<1,>=0.23.0->openai) (0.14.0)\n",
            "Requirement already satisfied: jsonpatch<2.0,>=1.33 in /usr/local/lib/python3.10/dist-packages (from langchain-core<0.4.0,>=0.3.12->langchain) (1.33)\n",
            "Requirement already satisfied: orjson<4.0.0,>=3.9.14 in /usr/local/lib/python3.10/dist-packages (from langsmith<0.2.0,>=0.1.17->langchain) (3.10.10)\n",
            "Requirement already satisfied: requests-toolbelt<2.0.0,>=1.0.0 in /usr/local/lib/python3.10/dist-packages (from langsmith<0.2.0,>=0.1.17->langchain) (1.0.0)\n",
            "Requirement already satisfied: python-dateutil>=2.8.2 in /usr/local/lib/python3.10/dist-packages (from pandas<3,>=1.4.0->streamlit) (2.8.2)\n",
            "Requirement already satisfied: pytz>=2020.1 in /usr/local/lib/python3.10/dist-packages (from pandas<3,>=1.4.0->streamlit) (2024.2)\n",
            "Requirement already satisfied: tzdata>=2022.7 in /usr/local/lib/python3.10/dist-packages (from pandas<3,>=1.4.0->streamlit) (2024.2)\n",
            "Requirement already satisfied: annotated-types>=0.6.0 in /usr/local/lib/python3.10/dist-packages (from pydantic<3.0.0,>=2.7.4->langchain) (0.7.0)\n",
            "Requirement already satisfied: pydantic-core==2.23.4 in /usr/local/lib/python3.10/dist-packages (from pydantic<3.0.0,>=2.7.4->langchain) (2.23.4)\n",
            "Requirement already satisfied: charset-normalizer<4,>=2 in /usr/local/lib/python3.10/dist-packages (from requests<3,>=2->langchain) (3.4.0)\n",
            "Requirement already satisfied: urllib3<3,>=1.21.1 in /usr/local/lib/python3.10/dist-packages (from requests<3,>=2->langchain) (2.2.3)\n",
            "Requirement already satisfied: markdown-it-py>=2.2.0 in /usr/local/lib/python3.10/dist-packages (from rich<14,>=10.14.0->streamlit) (3.0.0)\n",
            "Requirement already satisfied: pygments<3.0.0,>=2.13.0 in /usr/local/lib/python3.10/dist-packages (from rich<14,>=10.14.0->streamlit) (2.18.0)\n",
            "Requirement already satisfied: greenlet!=0.4.17 in /usr/local/lib/python3.10/dist-packages (from SQLAlchemy<3,>=1.4->langchain) (3.1.1)\n",
            "Requirement already satisfied: smmap<6,>=3.0.1 in /usr/local/lib/python3.10/dist-packages (from gitdb<5,>=4.0.1->gitpython!=3.1.19,<4,>=3.0.7->streamlit) (5.0.1)\n",
            "Requirement already satisfied: MarkupSafe>=2.0 in /usr/local/lib/python3.10/dist-packages (from jinja2->altair<6,>=4.0->streamlit) (3.0.2)\n",
            "Requirement already satisfied: jsonpointer>=1.9 in /usr/local/lib/python3.10/dist-packages (from jsonpatch<2.0,>=1.33->langchain-core<0.4.0,>=0.3.12->langchain) (3.0.0)\n",
            "Requirement already satisfied: jsonschema-specifications>=2023.03.6 in /usr/local/lib/python3.10/dist-packages (from jsonschema>=3.0->altair<6,>=4.0->streamlit) (2024.10.1)\n",
            "Requirement already satisfied: referencing>=0.28.4 in /usr/local/lib/python3.10/dist-packages (from jsonschema>=3.0->altair<6,>=4.0->streamlit) (0.35.1)\n",
            "Requirement already satisfied: rpds-py>=0.7.1 in /usr/local/lib/python3.10/dist-packages (from jsonschema>=3.0->altair<6,>=4.0->streamlit) (0.20.0)\n",
            "Requirement already satisfied: mdurl~=0.1 in /usr/local/lib/python3.10/dist-packages (from markdown-it-py>=2.2.0->rich<14,>=10.14.0->streamlit) (0.1.2)\n",
            "Requirement already satisfied: six>=1.5 in /usr/local/lib/python3.10/dist-packages (from python-dateutil>=2.8.2->pandas<3,>=1.4.0->streamlit) (1.16.0)\n",
            "Requirement already satisfied: propcache>=0.2.0 in /usr/local/lib/python3.10/dist-packages (from yarl<2.0,>=1.12.0->aiohttp<4.0.0,>=3.8.3->langchain) (0.2.0)\n"
          ]
        }
      ]
    },
    {
      "cell_type": "markdown",
      "source": [
        "## Tools Overview\n",
        "- **LangChain**: Framework for building applications with language models.  \n",
        "- **OpenAI**: Official OpenAI Python library.  \n",
        "- **Streamlit**: Enables the creation of interactive web apps.  \n",
        "\n",
        "---\n",
        "\n",
        "## 4. Step 2: Loading and Preprocessing the Document\n",
        "\n",
        "### 4.1 Import Libraries\n",
        "Create a new Python script named `app.py` and import the required modules."
      ],
      "metadata": {
        "id": "ppj8BF3_i0HA"
      }
    },
    {
      "cell_type": "code",
      "source": [
        "import os\n",
        "from langchain.llms import OpenAI\n",
        "from langchain.chains import LLMChain\n",
        "from langchain import PromptTemplate\n",
        "import streamlit as st\n"
      ],
      "metadata": {
        "id": "tj4aox7vjCNV",
        "colab": {
          "base_uri": "https://localhost:8080/",
          "height": 506
        },
        "outputId": "e9ae4d23-b226-450d-e771-089fa0fc085a"
      },
      "execution_count": 6,
      "outputs": [
        {
          "output_type": "error",
          "ename": "ModuleNotFoundError",
          "evalue": "No module named 'langchain_community'",
          "traceback": [
            "\u001b[0;31m---------------------------------------------------------------------------\u001b[0m",
            "\u001b[0;31mModuleNotFoundError\u001b[0m                       Traceback (most recent call last)",
            "\u001b[0;32m<ipython-input-6-f2cd14b3ca17>\u001b[0m in \u001b[0;36m<cell line: 2>\u001b[0;34m()\u001b[0m\n\u001b[1;32m      1\u001b[0m \u001b[0;32mimport\u001b[0m \u001b[0mos\u001b[0m\u001b[0;34m\u001b[0m\u001b[0;34m\u001b[0m\u001b[0m\n\u001b[0;32m----> 2\u001b[0;31m \u001b[0;32mfrom\u001b[0m \u001b[0mlangchain\u001b[0m\u001b[0;34m.\u001b[0m\u001b[0mllms\u001b[0m \u001b[0;32mimport\u001b[0m \u001b[0mOpenAI\u001b[0m\u001b[0;34m\u001b[0m\u001b[0;34m\u001b[0m\u001b[0m\n\u001b[0m\u001b[1;32m      3\u001b[0m \u001b[0;32mfrom\u001b[0m \u001b[0mlangchain\u001b[0m\u001b[0;34m.\u001b[0m\u001b[0mchains\u001b[0m \u001b[0;32mimport\u001b[0m \u001b[0mLLMChain\u001b[0m\u001b[0;34m\u001b[0m\u001b[0;34m\u001b[0m\u001b[0m\n\u001b[1;32m      4\u001b[0m \u001b[0;32mfrom\u001b[0m \u001b[0mlangchain\u001b[0m \u001b[0;32mimport\u001b[0m \u001b[0mPromptTemplate\u001b[0m\u001b[0;34m\u001b[0m\u001b[0;34m\u001b[0m\u001b[0m\n\u001b[1;32m      5\u001b[0m \u001b[0;32mimport\u001b[0m \u001b[0mstreamlit\u001b[0m \u001b[0;32mas\u001b[0m \u001b[0mst\u001b[0m\u001b[0;34m\u001b[0m\u001b[0;34m\u001b[0m\u001b[0m\n",
            "\u001b[0;32m/usr/local/lib/python3.10/dist-packages/langchain/llms/__init__.py\u001b[0m in \u001b[0;36m__getattr__\u001b[0;34m(name)\u001b[0m\n\u001b[1;32m    543\u001b[0m \u001b[0;34m\u001b[0m\u001b[0m\n\u001b[1;32m    544\u001b[0m \u001b[0;32mdef\u001b[0m \u001b[0m__getattr__\u001b[0m\u001b[0;34m(\u001b[0m\u001b[0mname\u001b[0m\u001b[0;34m:\u001b[0m \u001b[0mstr\u001b[0m\u001b[0;34m)\u001b[0m \u001b[0;34m->\u001b[0m \u001b[0mAny\u001b[0m\u001b[0;34m:\u001b[0m\u001b[0;34m\u001b[0m\u001b[0;34m\u001b[0m\u001b[0m\n\u001b[0;32m--> 545\u001b[0;31m     \u001b[0;32mfrom\u001b[0m \u001b[0mlangchain_community\u001b[0m \u001b[0;32mimport\u001b[0m \u001b[0mllms\u001b[0m\u001b[0;34m\u001b[0m\u001b[0;34m\u001b[0m\u001b[0m\n\u001b[0m\u001b[1;32m    546\u001b[0m \u001b[0;34m\u001b[0m\u001b[0m\n\u001b[1;32m    547\u001b[0m     \u001b[0;31m# If not in interactive env, raise warning.\u001b[0m\u001b[0;34m\u001b[0m\u001b[0;34m\u001b[0m\u001b[0m\n",
            "\u001b[0;31mModuleNotFoundError\u001b[0m: No module named 'langchain_community'",
            "",
            "\u001b[0;31m---------------------------------------------------------------------------\u001b[0;32m\nNOTE: If your import is failing due to a missing package, you can\nmanually install dependencies using either !pip or !apt.\n\nTo view examples of installing some common dependencies, click the\n\"Open Examples\" button below.\n\u001b[0;31m---------------------------------------------------------------------------\u001b[0m\n"
          ],
          "errorDetails": {
            "actions": [
              {
                "action": "open_url",
                "actionText": "Open Examples",
                "url": "/notebooks/snippets/importing_libraries.ipynb"
              }
            ]
          }
        }
      ]
    },
    {
      "cell_type": "markdown",
      "source": [
        "### 4.2 Set Up OpenAI API Key\n",
        "Set your OpenAI API key as an environment variable.\n"
      ],
      "metadata": {
        "id": "LpA1sGRPjINm"
      }
    },
    {
      "cell_type": "code",
      "source": [
        "os.environ[\"OPENAI_API_KEY\"] = 'your-openai-api-key'\n"
      ],
      "metadata": {
        "id": "fJHHb1PcjiDm"
      },
      "execution_count": null,
      "outputs": []
    },
    {
      "cell_type": "markdown",
      "source": [
        "> **Note**: For security, consider using Streamlit's secrets management or a `.env` file.\n",
        "\n",
        "### 4.3 Load the Document\n",
        "Define a function to load the document text.\n"
      ],
      "metadata": {
        "id": "3LkA5Vblj0B7"
      }
    },
    {
      "cell_type": "code",
      "source": [
        "def load_document(file):\n",
        "    return file.read().decode('utf-8')\n"
      ],
      "metadata": {
        "id": "eAWZZAT5j9xv"
      },
      "execution_count": null,
      "outputs": []
    },
    {
      "cell_type": "markdown",
      "source": [
        "## 5. Step 3: Configuring the Language Model\n",
        "\n",
        "### 5.1 Initialize the LLM\n",
        "Set up the OpenAI LLM with desired parameters.\n"
      ],
      "metadata": {
        "id": "ZTt001mxkCyU"
      }
    },
    {
      "cell_type": "code",
      "source": [
        "llm = OpenAI(temperature=0.7, max_tokens=1500)\n"
      ],
      "metadata": {
        "id": "KIwt8hBXkNF0"
      },
      "execution_count": null,
      "outputs": []
    },
    {
      "cell_type": "markdown",
      "source": [
        "### Parameters Overview\n",
        "- **temperature**: Controls creativity (range 0-1).  \n",
        "- **max_tokens**: Maximum tokens in the output.  \n",
        "\n",
        "---\n",
        "\n",
        "## 6. Step 4: Building the Summarization Pipeline\n",
        "\n",
        "### 6.1 Create a Prompt Template\n",
        "Define the prompt that instructs the LLM on how to process the input.\n"
      ],
      "metadata": {
        "id": "tUNLgxcIk_J1"
      }
    },
    {
      "cell_type": "code",
      "source": [
        "prompt = PromptTemplate(\n",
        "    input_variables=[\"text\"],\n",
        "    template=\"Summarize the following document:\\n\\n{text}\\n\\nSummary:\"\n",
        ")\n"
      ],
      "metadata": {
        "id": "7x0RsEF2k9eh"
      },
      "execution_count": null,
      "outputs": []
    },
    {
      "cell_type": "markdown",
      "source": [
        "### 6.2 Set Up the LLM Chain\n",
        "Create an `LLMChain` to link the prompt and the LLM."
      ],
      "metadata": {
        "id": "rhxR3TtAlRuu"
      }
    },
    {
      "cell_type": "code",
      "source": [
        "chain = LLMChain(llm=llm, prompt=prompt)\n"
      ],
      "metadata": {
        "id": "_4zD6gCMlWwg"
      },
      "execution_count": null,
      "outputs": []
    },
    {
      "cell_type": "markdown",
      "source": [
        "### 6.3 Handle Long Documents (Optional)\n",
        "For lengthy documents, split the text into chunks."
      ],
      "metadata": {
        "id": "Zw26LFMqldmd"
      }
    },
    {
      "cell_type": "code",
      "source": [
        "from langchain.text_splitter import RecursiveCharacterTextSplitter\n",
        "\n",
        "def split_text(text):\n",
        "    text_splitter = RecursiveCharacterTextSplitter(\n",
        "        chunk_size=2000,\n",
        "        chunk_overlap=200,\n",
        "    )\n",
        "    return text_splitter.split_text(text)"
      ],
      "metadata": {
        "id": "GES_Eyzklhx4"
      },
      "execution_count": null,
      "outputs": []
    },
    {
      "cell_type": "markdown",
      "source": [
        "### Process Each Chunk and Combine the Summaries\n"
      ],
      "metadata": {
        "id": "ArCWlsR2lnO6"
      }
    },
    {
      "cell_type": "code",
      "source": [
        "def summarize_document(text):\n",
        "    chunks = split_text(text)\n",
        "    summaries = []\n",
        "    for chunk in chunks:\n",
        "        summary = chain.run(chunk)\n",
        "        summaries.append(summary)\n",
        "    return ' '.join(summaries)\n"
      ],
      "metadata": {
        "id": "DLmvxf11l8cB"
      },
      "execution_count": null,
      "outputs": []
    },
    {
      "cell_type": "markdown",
      "source": [
        "## Step 5: Creating a User Interface with Streamlit\n",
        "\n",
        "### 7.1 Set Up the Streamlit App Structure\n",
        "Begin your `app.py` with a title and description.\n"
      ],
      "metadata": {
        "id": "pO_PifUimALq"
      }
    },
    {
      "cell_type": "code",
      "source": [
        "st.title(\"Document Summarization App\")\n",
        "st.write(\"Upload a document, and the app will generate a concise summary for you.\")\n"
      ],
      "metadata": {
        "id": "lgeBhSOOmG8G"
      },
      "execution_count": null,
      "outputs": []
    },
    {
      "cell_type": "markdown",
      "source": [
        "### 7.2 Add File Upload Option\n",
        "Allow users to upload their documents.\n"
      ],
      "metadata": {
        "id": "BYB2MwZmmNK8"
      }
    },
    {
      "cell_type": "code",
      "source": [
        "uploaded_file = st.file_uploader(\"Choose a text file\", type=[\"txt\"])\n"
      ],
      "metadata": {
        "id": "sQXf8BpWmV8o"
      },
      "execution_count": null,
      "outputs": []
    },
    {
      "cell_type": "markdown",
      "source": [
        "> **Note**: You can extend support to other file types with additional libraries.\n",
        "\n",
        "### 7.3 Process the Uploaded File\n",
        "Handle the uploaded file and display the summary.\n"
      ],
      "metadata": {
        "id": "Hp_X4g2TmcDW"
      }
    },
    {
      "cell_type": "code",
      "source": [
        "if uploaded_file is not None:\n",
        "    text = load_document(uploaded_file)\n",
        "    with st.spinner('Summarizing...'):\n",
        "        summary = summarize_document(text)\n",
        "    st.subheader(\"Summary\")\n",
        "    st.write(summary)\n"
      ],
      "metadata": {
        "id": "9PrqPnRZm6S3"
      },
      "execution_count": null,
      "outputs": []
    },
    {
      "cell_type": "markdown",
      "source": [
        "## Step 6: Running and Testing the Application\n",
        "\n",
        "### 8.1 Run the Streamlit App\n",
        "In your terminal, execute:\n",
        "```bash\n",
        "streamlit run app.py\n"
      ],
      "metadata": {
        "id": "ikC0VCRNnH9q"
      }
    },
    {
      "cell_type": "markdown",
      "source": [
        "### 8.2 Test with a Sample Document\n",
        "1. Open the app in your web browser.  \n",
        "2. Upload a text file when prompted.  \n",
        "3. Wait for the summary to be generated.  \n",
        "4. Review the output displayed.  \n",
        "\n",
        "---\n",
        "\n",
        "## 9. Conclusion\n",
        "Congratulations! You've built a functional document summarization application using **LangChain** and **Streamlit**. This application serves as a foundation for more complex NLP tasks.\n",
        "\n",
        "### Potential Enhancements:\n",
        "- **Support Multiple File Formats**: Integrate libraries like `PyPDF2` or `python-docx` to handle PDFs and Word documents.  \n",
        "- **Advanced Summarization Options**: Offer choices between abstractive and extractive summarization.  \n",
        "- **User Customization**: Allow users to adjust parameters like summary length or model temperature.  \n",
        "\n",
        "---\n",
        "\n",
        "## 10. References\n",
        "- [LangChain Documentation](#)  \n",
        "- [OpenAI API Reference](#)  \n",
        "- [Streamlit Documentation](#)  \n",
        "- [LangChain Blog: LLMs to Improve Documentation](#)  \n",
        "- [Streamlit Blog: Build a Text Summarization App](#)\n"
      ],
      "metadata": {
        "id": "YBcvBdwcnewb"
      }
    }
  ]
}
